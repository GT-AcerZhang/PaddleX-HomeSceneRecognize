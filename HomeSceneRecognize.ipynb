{
 "cells": [
  {
   "cell_type": "markdown",
   "metadata": {
    "collapsed": false
   },
   "source": [
    "### 对于家庭服务机器人，有很多时候需要知道自己身处的位置，这里的位置并不是指在地图坐标中的具体定位，而是要知道自己在家庭中的哪种场景下。譬如，机器人应避免进入浴室、机器人在卧室的时候应放低音量、机器人于走廊中应沿着墙壁走而非垂直于墙壁走等。\n",
    "\n",
    "### 这里使用的数据是CVPR2009 Indoor Scene Recognition[1]中的家庭部分的数据\n",
    "### 使用了bathroom、bedroom、corridor、diningroom、kitchen、livingroom六大类的数据。\n",
    "\n",
    "### [数据下载地址](http://web.mit.edu/torralba/www/indoor.html)   \n",
    "\n",
    "### 效果展示："
   ]
  },
  {
   "cell_type": "code",
   "execution_count": 6,
   "metadata": {
    "collapsed": false
   },
   "outputs": [
    {
     "data": {
      "text/html": [
       "<iframe style=\"width:98%;height: 590px;\" src=\"//player.bilibili.com/player.html?aid=711045386&bvid=BV1wD4y1Q7ER&cid=203061946&page=1\" scrolling=\"no\" border=\"0\" frameborder=\"no\" framespacing=\"0\" allowfullscreen=\"true\"> </iframe>"
      ],
      "text/plain": [
       "<IPython.core.display.HTML object>"
      ]
     },
     "execution_count": 6,
     "metadata": {},
     "output_type": "execute_result"
    }
   ],
   "source": [
    "from IPython.display import HTML\r\n",
    "HTML('<iframe style=\"width:98%;height: 590px;\" src=\"//player.bilibili.com/player.html?aid=711045386&bvid=BV1wD4y1Q7ER&cid=203061946&page=1\" scrolling=\"no\" border=\"0\" frameborder=\"no\" framespacing=\"0\" allowfullscreen=\"true\"> </iframe>')"
   ]
  },
  {
   "cell_type": "code",
   "execution_count": 5,
   "metadata": {
    "collapsed": false
   },
   "outputs": [
    {
     "data": {
      "text/html": [
       "<iframe style=\"width:98%;height: 590px;\" src=\"//player.bilibili.com/player.html?aid=711045386&bvid=BV1wD4y1Q7ER&cid=203065009&page=2\" scrolling=\"no\" border=\"0\" frameborder=\"no\" framespacing=\"0\" allowfullscreen=\"true\"> </iframe>"
      ],
      "text/plain": [
       "<IPython.core.display.HTML object>"
      ]
     },
     "execution_count": 5,
     "metadata": {},
     "output_type": "execute_result"
    }
   ],
   "source": [
    "HTML('<iframe style=\"width:98%;height: 590px;\" src=\"//player.bilibili.com/player.html?aid=711045386&bvid=BV1wD4y1Q7ER&cid=203065009&page=2\" scrolling=\"no\" border=\"0\" frameborder=\"no\" framespacing=\"0\" allowfullscreen=\"true\"> </iframe>')"
   ]
  },
  {
   "cell_type": "markdown",
   "metadata": {
    "collapsed": false
   },
   "source": [
    "### 1、准备数据   \n",
    "![](https://ai-studio-static-online.cdn.bcebos.com/547f8fb217e44dc69907174a4dd68dacf19efca1a4b0497da9c2d2ae7b390852)\n",
    "#### 这里面有很坑的地方，有一些图片数据可能是损坏了，opencv可以成功读取某几张图片，但数据有问题，大概六七张的样子。如果直接送到网络中也会导致网络训练的中断，这个地方卡了我一些时间"
   ]
  },
  {
   "cell_type": "markdown",
   "metadata": {
    "collapsed": false
   },
   "source": [
    "### 2、使用paddleX创建一个分类任务\n",
    "![](https://ai-studio-static-online.cdn.bcebos.com/2677d028206649d6964f861b4af092decceb974e51c3409594c1f78da85012c3)\n",
    "#### 由于最后会布置到终端上，这里选用mobilenetv1这种更适合终端的网络。取消垂直翻转和旋转，根据自己的机器，调小了batchsize和learningrate。"
   ]
  },
  {
   "cell_type": "markdown",
   "metadata": {
    "collapsed": false
   },
   "source": [
    "### 3、训练结果\n",
    "![](https://ai-studio-static-online.cdn.bcebos.com/ca88c9a5b9974144a9aafec1afac8921def5b96b18114671ba4c5743777f7f92)\n",
    "![](https://ai-studio-static-online.cdn.bcebos.com/22f41853a15d48248cfef62f69e22f85e7e899e0b2d343c5ac99976f35b19668)   \n",
    "![](https://ai-studio-static-online.cdn.bcebos.com/baff4b5eb71340558a13fcef6ce5d3415d434863a4574ebdadb5ad63a569a348)   \n",
    "![](https://ai-studio-static-online.cdn.bcebos.com/c8ee3329206a45f0b05236b393fa32a6e420bc24037b44a586e14f5c3c4a3bb5)   \n",
    "#### 因为最后是应用在机器人上，所以选择了移动端发布。"
   ]
  },
  {
   "cell_type": "markdown",
   "metadata": {
    "collapsed": false
   },
   "source": [
    "### 4、一些结果\n",
    "![](https://ai-studio-static-online.cdn.bcebos.com/7bb216dfc4644bb78c925e3fa6ebeaa767acfe8111a24236b7d643c1afa0524a)\n",
    "![](https://ai-studio-static-online.cdn.bcebos.com/d0f1a019b3a5461db61457ea7a680df274a5fbe5271f4be3b4e138bd8a0d1d19)\n",
    "![](https://ai-studio-static-online.cdn.bcebos.com/43f632d637c74b759f9b6b52ec1cbd64acb6900f8ff64a3f82224557d96df272)\n",
    "![](https://ai-studio-static-online.cdn.bcebos.com/2ad8b19a169447cc80c052842b68cee407d0e1392ee343f5826c77592d02c08d)\n",
    "![](https://ai-studio-static-online.cdn.bcebos.com/4ff264ef7786495ea6b51e263157321158b784553e0d43aea7b366c9d75c7bfc)\n",
    "![](https://ai-studio-static-online.cdn.bcebos.com/fb2cf97303db47368c1a7031c16f12d7bc2b75844fa94b58a237a34bbc70b9a3)"
   ]
  },
  {
   "cell_type": "markdown",
   "metadata": {
    "collapsed": false
   },
   "source": [
    "### 5、在树莓派上运行\n",
    "#### 利用opt工具转换为nb文件（已提供），树莓派上效果已在文章开头展示\n",
    "#### 一帧只要30+毫秒，惊呆我，这个速度真的很厉害，说明这个量化做的效果很好。"
   ]
  },
  {
   "cell_type": "markdown",
   "metadata": {
    "collapsed": false
   },
   "source": [
    "### [1] Quattoni, and A.Torralba. Recognizing Indoor Scenes. IEEE Conference on Computer Vision and Pattern Recognition (CVPR), 2009.\n",
    "### [2] PaddleX https://github.com/PaddlePaddle/PaddleX\n",
    "### [3] Mobilenetv1 https://arxiv.org/abs/1704.04861"
   ]
  }
 ],
 "metadata": {
  "kernelspec": {
   "display_name": "PaddlePaddle 1.7.2 (Python 3.5)",
   "language": "python",
   "name": "py35-paddle1.2.0"
  },
  "language_info": {
   "codemirror_mode": {
    "name": "ipython",
    "version": 3
   },
   "file_extension": ".py",
   "mimetype": "text/x-python",
   "name": "python",
   "nbconvert_exporter": "python",
   "pygments_lexer": "ipython3",
   "version": "3.7.4"
  }
 },
 "nbformat": 4,
 "nbformat_minor": 1
}
